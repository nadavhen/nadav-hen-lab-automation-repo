{
 "cells": [
  {
   "cell_type": "code",
   "execution_count": 1,
   "metadata": {},
   "outputs": [],
   "source": [
    "import time\n",
    "import sys\n",
    "from pymata4 import pymata4"
   ]
  },
  {
   "cell_type": "code",
   "execution_count": 2,
   "metadata": {},
   "outputs": [
    {
     "name": "stdout",
     "output_type": "stream",
     "text": [
      "pymata4:  Version 1.15\n",
      "\n",
      "Copyright (c) 2020 Alan Yorinks All Rights Reserved.\n",
      "\n",
      "Opening COM4...\n",
      "\n",
      "Waiting 4 seconds(arduino_wait) for Arduino devices to reset...\n",
      "Arduino compatible device found and connected to COM4\n",
      "\n",
      "Retrieving Arduino Firmware ID...\n",
      "Arduino Firmware ID: 1.2 FirmataExpress.ino\n",
      "\n",
      "Retrieving analog map...\n",
      "Auto-discovery complete. Found 20 Digital Pins and 6 Analog Pins\n",
      "\n",
      "\n"
     ]
    }
   ],
   "source": [
    "board = pymata4.Pymata4(com_port=\"COM4\")"
   ]
  },
  {
   "cell_type": "code",
   "execution_count": 7,
   "metadata": {},
   "outputs": [],
   "source": [
    "def button_press(data):\n",
    "    pin = data[1]\n",
    "    value = data[2]\n",
    "    if value == 1:  # Button pressed\n",
    "        print(\"Button pressed!\")\n",
    "        board.digital_write(LED_PIN, 1)  # Turn on the LED\n",
    "    else:  # Button released\n",
    "        print(\"Button released!\")\n",
    "        board.digital_write(LED_PIN, 0)  # Turn off the LED"
   ]
  },
  {
   "cell_type": "code",
   "execution_count": 8,
   "metadata": {},
   "outputs": [
    {
     "name": "stdout",
     "output_type": "stream",
     "text": [
      "Button pressed!\n",
      "Button released!\n",
      "Button pressed!\n",
      "Button released!\n",
      "Button pressed!\n",
      "Button released!\n",
      "Button pressed!\n",
      "Button released!\n",
      "Button pressed!\n",
      "Button released!\n",
      "Button pressed!\n",
      "Button released!\n",
      "Button pressed!\n",
      "Button released!\n",
      "Button pressed!\n",
      "Button released!\n",
      "Button pressed!\n",
      "Button released!\n",
      "Button pressed!\n",
      "Button released!\n",
      "Button pressed!\n",
      "Button released!\n",
      "Button pressed!\n",
      "Button released!\n",
      "Button pressed!\n",
      "Button released!\n",
      "Button pressed!\n",
      "Button released!\n",
      "Button pressed!\n",
      "Button released!\n",
      "Button pressed!\n",
      "Button released!\n",
      "Button pressed!\n",
      "Button released!\n",
      "Button pressed!\n",
      "Button released!\n",
      "Button pressed!\n",
      "Button released!\n",
      "Button pressed!\n",
      "Button released!\n",
      "Button pressed!\n",
      "Button released!\n",
      "Button pressed!\n",
      "Button released!\n",
      "Button pressed!\n",
      "Button released!\n",
      "Button pressed!\n",
      "Button released!\n",
      "Button pressed!\n",
      "Button released!\n",
      "Button pressed!\n",
      "Button released!\n",
      "Button pressed!\n",
      "Button released!\n",
      "Button pressed!\n",
      "Button released!\n",
      "Button pressed!\n",
      "Button released!\n",
      "Button pressed!\n",
      "Button released!\n",
      "Button pressed!\n",
      "Button released!\n",
      "Button pressed!\n",
      "Button released!\n",
      "Button pressed!\n",
      "Button released!\n",
      "Button pressed!\n",
      "Button released!\n",
      "Button pressed!\n",
      "Button released!\n",
      "Button pressed!\n",
      "Button released!\n",
      "Button pressed!\n",
      "Button released!\n",
      "Button pressed!\n",
      "Button released!\n",
      "Button pressed!\n",
      "Button released!\n",
      "Button pressed!\n",
      "Button released!\n",
      "Button pressed!\n",
      "Button released!\n",
      "Button pressed!\n",
      "Button released!\n",
      "Button pressed!\n",
      "Button released!\n",
      "Button pressed!\n",
      "Button released!\n",
      "Button pressed!\n",
      "Button released!\n",
      "Button pressed!\n",
      "Button released!\n",
      "Button pressed!\n",
      "Button released!\n"
     ]
    }
   ],
   "source": [
    "BUTTON_PIN = 6\n",
    "board.set_pin_mode_digital_input_pullup(pin_number=BUTTON_PIN,callback=button_press)\n",
    "LED_PIN = 4\n",
    "board.set_pin_mode_digital_output(LED_PIN)"
   ]
  },
  {
   "cell_type": "code",
   "execution_count": 5,
   "metadata": {},
   "outputs": [
    {
     "ename": "",
     "evalue": "",
     "output_type": "error",
     "traceback": [
      "\u001b[1;31mCannot execute code, session has been disposed. Please try restarting the Kernel."
     ]
    },
    {
     "ename": "",
     "evalue": "",
     "output_type": "error",
     "traceback": [
      "\u001b[1;31mThe Kernel crashed while executing code in the the current cell or a previous cell. Please review the code in the cell(s) to identify a possible cause of the failure. Click <a href='https://aka.ms/vscodeJupyterKernelCrash'>here</a> for more info. View Jupyter <a href='command:jupyter.viewOutput'>log</a> for further details."
     ]
    }
   ],
   "source": [
    "board.shutdown()"
   ]
  },
  {
   "cell_type": "code",
   "execution_count": null,
   "metadata": {},
   "outputs": [],
   "source": []
  }
 ],
 "metadata": {
  "kernelspec": {
   "display_name": "stepper1",
   "language": "python",
   "name": "python3"
  },
  "language_info": {
   "codemirror_mode": {
    "name": "ipython",
    "version": 3
   },
   "file_extension": ".py",
   "mimetype": "text/x-python",
   "name": "python",
   "nbconvert_exporter": "python",
   "pygments_lexer": "ipython3",
   "version": "3.11.7"
  }
 },
 "nbformat": 4,
 "nbformat_minor": 2
}
